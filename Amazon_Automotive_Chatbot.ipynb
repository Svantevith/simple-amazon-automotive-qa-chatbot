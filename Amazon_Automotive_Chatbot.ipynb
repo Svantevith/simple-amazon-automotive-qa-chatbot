{
  "nbformat": 4,
  "nbformat_minor": 0,
  "metadata": {
    "colab": {
      "name": "Amazon Automotive Chatbot.ipynb",
      "provenance": [],
      "collapsed_sections": []
    },
    "kernelspec": {
      "name": "python3",
      "display_name": "Python 3"
    },
    "language_info": {
      "name": "python"
    },
    "accelerator": "GPU"
  },
  "cells": [
    {
      "cell_type": "markdown",
      "source": [
        "# Architecture of a basic chatbot\n",
        "A **basic chatbot** can be **trained** using a **predefined corpus** and **provide responses to queries** using **vectorization** and **cosine similarity**.\n",
        "The **most important requirement** for building a **chatbot** is the **corpus** or **text data** on which the **chatbot will be trained**. \n",
        "* The **corpus** should be **relevant** and **exhaustive**. \n",
        "* Ensure that the **response time is\n",
        "acceptable** and that the **bot** is **not taking** an **inordinate amount of time** to **respond**. \n",
        "* The **bot** should also ideally seem **human-like** and have an **acceptable accuracy rate**.\n",
        "\n",
        "> **Amazon's Q&A data** is a **repository of questions** and **answers** gathered from\n",
        "**Amazon's website** for **various product categories**. The **corpus** is provided in a **JavaScript Object Notation (JSON)** format.\n",
        ">\n",
        "> http://jmcauley.ucsd.edu/data/amazon/qa/\n",
        "\n",
        "\n",
        "In order to **build a similarity-based chatbot**, following steps should be taken:\n",
        "1. Store all the **questions** from the **corpus** in an array\n",
        "2. Store all **corresponding answers** from the **corpus** in an array\n",
        "3. **Vectorize** and **preprocess** the **question data**\n",
        "4. **Vectorize** and **preprocess** the **user's query**\n",
        "5. Assess the **most similar question** to the **user's query** using **cosine similarity**\n",
        "6. Return the **corresponding answer** to the **most similar question** as a **chat response**\n",
        "\n",
        "> Note that we **do not need** to **vectorize** and **preprocess** the **answers data**, because that's the **target to return**. Only the **user's query** is **compared** with the **question data**, and therefore, these require **text preprocessing**."
      ],
      "metadata": {
        "id": "TzAVZRH877cF"
      }
    },
    {
      "cell_type": "markdown",
      "source": [
        "# Import dependencies"
      ],
      "metadata": {
        "id": "apHC2WdP-83f"
      }
    },
    {
      "cell_type": "code",
      "source": [
        "import urllib.request\n",
        "from urllib.parse import urlparse\n",
        "from urllib.error import HTTPError\n",
        "import gzip\n",
        "import json\n",
        "import ast\n",
        "import numpy as np\n",
        "import pandas as pd\n",
        "import nltk\n",
        "from nltk.corpus import stopwords\n",
        "from nltk.corpus import wordnet\n",
        "from nltk.tokenize import TweetTokenizer\n",
        "from nltk.stem import WordNetLemmatizer\n",
        "from sklearn.feature_extraction.text import TfidfVectorizer\n",
        "from sklearn.metrics.pairwise import cosine_similarity\n",
        "from typing import Generator"
      ],
      "metadata": {
        "id": "E4pjioSJOgy4"
      },
      "execution_count": null,
      "outputs": []
    },
    {
      "cell_type": "code",
      "execution_count": null,
      "metadata": {
        "id": "0J-6e0zIuqGD",
        "colab": {
          "base_uri": "https://localhost:8080/"
        },
        "outputId": "924aaa40-caa9-466f-8a3f-7fedafa5505a"
      },
      "outputs": [
        {
          "output_type": "stream",
          "name": "stdout",
          "text": [
            "[nltk_data] Downloading package wordnet to /root/nltk_data...\n",
            "[nltk_data]   Unzipping corpora/wordnet.zip.\n",
            "[nltk_data] Downloading package punkt to /root/nltk_data...\n",
            "[nltk_data]   Unzipping tokenizers/punkt.zip.\n",
            "[nltk_data] Downloading package stopwords to /root/nltk_data...\n",
            "[nltk_data]   Unzipping corpora/stopwords.zip.\n",
            "[nltk_data] Downloading package averaged_perceptron_tagger to\n",
            "[nltk_data]     /root/nltk_data...\n",
            "[nltk_data]   Unzipping taggers/averaged_perceptron_tagger.zip.\n"
          ]
        },
        {
          "output_type": "execute_result",
          "data": {
            "text/plain": [
              "True"
            ]
          },
          "metadata": {},
          "execution_count": 2
        }
      ],
      "source": [
        "nltk.download('wordnet')\n",
        "nltk.download('punkt')\n",
        "nltk.download('stopwords')\n",
        "nltk.download('averaged_perceptron_tagger')"
      ]
    },
    {
      "cell_type": "markdown",
      "source": [
        "# Read data from the compressed JSON"
      ],
      "metadata": {
        "id": "uFLfJ5jI_AH6"
      }
    },
    {
      "cell_type": "code",
      "source": [
        "automotive_url = r'http://jmcauley.ucsd.edu/data/amazon/qa/qa_Automotive.json.gz'"
      ],
      "metadata": {
        "id": "DdM8V64je_0W"
      },
      "execution_count": null,
      "outputs": []
    },
    {
      "cell_type": "code",
      "source": [
        "def read_gzip_json(path_or_url: str, row_limit: int = None) -> Generator[str, None, str]:\n",
        "  try:\n",
        "    # Create a buffer from the HTTP response\n",
        "    if urlparse(path_or_url).scheme:\n",
        "      buffer = urllib.request.urlopen(path_or_url)\n",
        "    \n",
        "    # Set the buffer to a local path\n",
        "    else:\n",
        "      buffer = path_or_url\n",
        "  \n",
        "    # Yield each evaluated line from the compressed JSON\n",
        "    for i, line in enumerate(gzip.open(buffer)):\n",
        "      if i == row_limit:\n",
        "        break\n",
        "      yield ast.literal_eval(line.decode('utf-8'))\n",
        "  \n",
        "  # Raise appropriate error if buffer is invalid\n",
        "  except FileNotFoundError:\n",
        "    raise ValueError(f\"Invalid File Path: {path_or_url} not found\")\n",
        "  except HTTPError:\n",
        "    raise ValueError(f\"HTTP Error 404: {automotive_url} not found\")"
      ],
      "metadata": {
        "id": "EdtrNNwwcl1a"
      },
      "execution_count": null,
      "outputs": []
    },
    {
      "cell_type": "code",
      "source": [
        "try:\n",
        "  # Read compressed JSON and parse lines to a DataFrame\n",
        "  automotive_df = pd.concat(\n",
        "      pd.json_normalize(data)[['question', 'answer']] \n",
        "      for data in read_gzip_json(automotive_url, row_limit=1000)\n",
        "  )\n",
        "\n",
        "  # Remove duplicate QAs and reset index\n",
        "  automotive_df.drop_duplicates(\n",
        "      ignore_index=True,\n",
        "      inplace=True\n",
        "  )\n",
        "except ValueError as error:\n",
        "  print(error)\n",
        "  automotive_df = pd.DataFrame(columns=['question', 'answer'])"
      ],
      "metadata": {
        "id": "zAXYT6dwdQqN"
      },
      "execution_count": null,
      "outputs": []
    },
    {
      "cell_type": "code",
      "source": [
        "automotive_df.head(20)"
      ],
      "metadata": {
        "colab": {
          "base_uri": "https://localhost:8080/",
          "height": 677
        },
        "id": "w_U9Ezatb63k",
        "outputId": "3b6b0669-7240-4322-bf80-f6c27ffd78cf"
      },
      "execution_count": null,
      "outputs": [
        {
          "output_type": "execute_result",
          "data": {
            "text/html": [
              "\n",
              "  <div id=\"df-7425bc59-3fa9-4469-9490-95a69707aab0\">\n",
              "    <div class=\"colab-df-container\">\n",
              "      <div>\n",
              "<style scoped>\n",
              "    .dataframe tbody tr th:only-of-type {\n",
              "        vertical-align: middle;\n",
              "    }\n",
              "\n",
              "    .dataframe tbody tr th {\n",
              "        vertical-align: top;\n",
              "    }\n",
              "\n",
              "    .dataframe thead th {\n",
              "        text-align: right;\n",
              "    }\n",
              "</style>\n",
              "<table border=\"1\" class=\"dataframe\">\n",
              "  <thead>\n",
              "    <tr style=\"text-align: right;\">\n",
              "      <th></th>\n",
              "      <th>question</th>\n",
              "      <th>answer</th>\n",
              "    </tr>\n",
              "  </thead>\n",
              "  <tbody>\n",
              "    <tr>\n",
              "      <th>0</th>\n",
              "      <td>What is the most useful length to get?</td>\n",
              "      <td>at least 20 feet.......heres why....say you ha...</td>\n",
              "    </tr>\n",
              "    <tr>\n",
              "      <th>1</th>\n",
              "      <td>Are these cables made of copper or aluminum?</td>\n",
              "      <td>Coleman's website does indeed say copper equiv...</td>\n",
              "    </tr>\n",
              "    <tr>\n",
              "      <th>2</th>\n",
              "      <td>I bought the Red Extra Heavy Duty. Is that too...</td>\n",
              "      <td>For jumper cables, you can never have \"too muc...</td>\n",
              "    </tr>\n",
              "    <tr>\n",
              "      <th>3</th>\n",
              "      <td>Hi, Being 20ft 4gauge how heavy is this?</td>\n",
              "      <td>Not nearly heavy enough. I keep them under my ...</td>\n",
              "    </tr>\n",
              "    <tr>\n",
              "      <th>4</th>\n",
              "      <td>Do these cables come with a bag?</td>\n",
              "      <td>No</td>\n",
              "    </tr>\n",
              "    <tr>\n",
              "      <th>5</th>\n",
              "      <td>Are the wires paired together? Am surprised bo...</td>\n",
              "      <td>Yes, it's a twined cable. And why does it surp...</td>\n",
              "    </tr>\n",
              "    <tr>\n",
              "      <th>6</th>\n",
              "      <td>How many amps can this handle?</td>\n",
              "      <td>Per Coleman Cable specifications 4 gauge 20 fo...</td>\n",
              "    </tr>\n",
              "    <tr>\n",
              "      <th>7</th>\n",
              "      <td>Can I use this cables to boost a school bus ?</td>\n",
              "      <td>I would think so. I bought them to charge a pu...</td>\n",
              "    </tr>\n",
              "    <tr>\n",
              "      <th>8</th>\n",
              "      <td>can this be a replacement for AQ41682059, is t...</td>\n",
              "      <td>It replace these models but you have to use th...</td>\n",
              "    </tr>\n",
              "    <tr>\n",
              "      <th>9</th>\n",
              "      <td>It does not state what RPM this motor is, does...</td>\n",
              "      <td>1100 R 1100 1100 RPM Dan CSH</td>\n",
              "    </tr>\n",
              "    <tr>\n",
              "      <th>10</th>\n",
              "      <td>Is this motor a lomanco F0510B2944 with a 5 ye...</td>\n",
              "      <td>I have no idea on that one! You will have to c...</td>\n",
              "    </tr>\n",
              "    <tr>\n",
              "      <th>11</th>\n",
              "      <td>What is the motor diameter and shaft diameter ...</td>\n",
              "      <td>This has been a little time since I installed ...</td>\n",
              "    </tr>\n",
              "    <tr>\n",
              "      <th>12</th>\n",
              "      <td>Is this motor 120v</td>\n",
              "      <td>It runs on standard US household current, 110V.</td>\n",
              "    </tr>\n",
              "    <tr>\n",
              "      <th>13</th>\n",
              "      <td>will this replace fan model f0510B2944?</td>\n",
              "      <td>I just copied this information from the Lamanc...</td>\n",
              "    </tr>\n",
              "    <tr>\n",
              "      <th>14</th>\n",
              "      <td>what is the difference between F0510B2944 and ...</td>\n",
              "      <td>Sorry I have no idea; just tried to research f...</td>\n",
              "    </tr>\n",
              "    <tr>\n",
              "      <th>15</th>\n",
              "      <td>what is the number is it F0512B2506? says Cert...</td>\n",
              "      <td>I can't be sure. this motor covers a wide vari...</td>\n",
              "    </tr>\n",
              "    <tr>\n",
              "      <th>16</th>\n",
              "      <td>Will this motor replace Broan motor # 99000237</td>\n",
              "      <td>Not sure of model number was used to replace a...</td>\n",
              "    </tr>\n",
              "    <tr>\n",
              "      <th>17</th>\n",
              "      <td>How is this motor different than the one Amazo...</td>\n",
              "      <td>I don't know? I bought the one I have because ...</td>\n",
              "    </tr>\n",
              "    <tr>\n",
              "      <th>18</th>\n",
              "      <td>we bought a barbie jeep at a yard sale. It is ...</td>\n",
              "      <td>I am not positive but sounds like 12V means yo...</td>\n",
              "    </tr>\n",
              "    <tr>\n",
              "      <th>19</th>\n",
              "      <td>how long to charge</td>\n",
              "      <td>Adena, It takes a good twelve to sixteen hours...</td>\n",
              "    </tr>\n",
              "  </tbody>\n",
              "</table>\n",
              "</div>\n",
              "      <button class=\"colab-df-convert\" onclick=\"convertToInteractive('df-7425bc59-3fa9-4469-9490-95a69707aab0')\"\n",
              "              title=\"Convert this dataframe to an interactive table.\"\n",
              "              style=\"display:none;\">\n",
              "        \n",
              "  <svg xmlns=\"http://www.w3.org/2000/svg\" height=\"24px\"viewBox=\"0 0 24 24\"\n",
              "       width=\"24px\">\n",
              "    <path d=\"M0 0h24v24H0V0z\" fill=\"none\"/>\n",
              "    <path d=\"M18.56 5.44l.94 2.06.94-2.06 2.06-.94-2.06-.94-.94-2.06-.94 2.06-2.06.94zm-11 1L8.5 8.5l.94-2.06 2.06-.94-2.06-.94L8.5 2.5l-.94 2.06-2.06.94zm10 10l.94 2.06.94-2.06 2.06-.94-2.06-.94-.94-2.06-.94 2.06-2.06.94z\"/><path d=\"M17.41 7.96l-1.37-1.37c-.4-.4-.92-.59-1.43-.59-.52 0-1.04.2-1.43.59L10.3 9.45l-7.72 7.72c-.78.78-.78 2.05 0 2.83L4 21.41c.39.39.9.59 1.41.59.51 0 1.02-.2 1.41-.59l7.78-7.78 2.81-2.81c.8-.78.8-2.07 0-2.86zM5.41 20L4 18.59l7.72-7.72 1.47 1.35L5.41 20z\"/>\n",
              "  </svg>\n",
              "      </button>\n",
              "      \n",
              "  <style>\n",
              "    .colab-df-container {\n",
              "      display:flex;\n",
              "      flex-wrap:wrap;\n",
              "      gap: 12px;\n",
              "    }\n",
              "\n",
              "    .colab-df-convert {\n",
              "      background-color: #E8F0FE;\n",
              "      border: none;\n",
              "      border-radius: 50%;\n",
              "      cursor: pointer;\n",
              "      display: none;\n",
              "      fill: #1967D2;\n",
              "      height: 32px;\n",
              "      padding: 0 0 0 0;\n",
              "      width: 32px;\n",
              "    }\n",
              "\n",
              "    .colab-df-convert:hover {\n",
              "      background-color: #E2EBFA;\n",
              "      box-shadow: 0px 1px 2px rgba(60, 64, 67, 0.3), 0px 1px 3px 1px rgba(60, 64, 67, 0.15);\n",
              "      fill: #174EA6;\n",
              "    }\n",
              "\n",
              "    [theme=dark] .colab-df-convert {\n",
              "      background-color: #3B4455;\n",
              "      fill: #D2E3FC;\n",
              "    }\n",
              "\n",
              "    [theme=dark] .colab-df-convert:hover {\n",
              "      background-color: #434B5C;\n",
              "      box-shadow: 0px 1px 3px 1px rgba(0, 0, 0, 0.15);\n",
              "      filter: drop-shadow(0px 1px 2px rgba(0, 0, 0, 0.3));\n",
              "      fill: #FFFFFF;\n",
              "    }\n",
              "  </style>\n",
              "\n",
              "      <script>\n",
              "        const buttonEl =\n",
              "          document.querySelector('#df-7425bc59-3fa9-4469-9490-95a69707aab0 button.colab-df-convert');\n",
              "        buttonEl.style.display =\n",
              "          google.colab.kernel.accessAllowed ? 'block' : 'none';\n",
              "\n",
              "        async function convertToInteractive(key) {\n",
              "          const element = document.querySelector('#df-7425bc59-3fa9-4469-9490-95a69707aab0');\n",
              "          const dataTable =\n",
              "            await google.colab.kernel.invokeFunction('convertToInteractive',\n",
              "                                                     [key], {});\n",
              "          if (!dataTable) return;\n",
              "\n",
              "          const docLinkHtml = 'Like what you see? Visit the ' +\n",
              "            '<a target=\"_blank\" href=https://colab.research.google.com/notebooks/data_table.ipynb>data table notebook</a>'\n",
              "            + ' to learn more about interactive tables.';\n",
              "          element.innerHTML = '';\n",
              "          dataTable['output_type'] = 'display_data';\n",
              "          await google.colab.output.renderOutput(dataTable, element);\n",
              "          const docLink = document.createElement('div');\n",
              "          docLink.innerHTML = docLinkHtml;\n",
              "          element.appendChild(docLink);\n",
              "        }\n",
              "      </script>\n",
              "    </div>\n",
              "  </div>\n",
              "  "
            ],
            "text/plain": [
              "                                             question                                             answer\n",
              "0              What is the most useful length to get?  at least 20 feet.......heres why....say you ha...\n",
              "1        Are these cables made of copper or aluminum?  Coleman's website does indeed say copper equiv...\n",
              "2   I bought the Red Extra Heavy Duty. Is that too...  For jumper cables, you can never have \"too muc...\n",
              "3            Hi, Being 20ft 4gauge how heavy is this?  Not nearly heavy enough. I keep them under my ...\n",
              "4                    Do these cables come with a bag?                                                 No\n",
              "5   Are the wires paired together? Am surprised bo...  Yes, it's a twined cable. And why does it surp...\n",
              "6                      How many amps can this handle?  Per Coleman Cable specifications 4 gauge 20 fo...\n",
              "7       Can I use this cables to boost a school bus ?  I would think so. I bought them to charge a pu...\n",
              "8   can this be a replacement for AQ41682059, is t...  It replace these models but you have to use th...\n",
              "9   It does not state what RPM this motor is, does...                       1100 R 1100 1100 RPM Dan CSH\n",
              "10  Is this motor a lomanco F0510B2944 with a 5 ye...  I have no idea on that one! You will have to c...\n",
              "11  What is the motor diameter and shaft diameter ...  This has been a little time since I installed ...\n",
              "12                                 Is this motor 120v    It runs on standard US household current, 110V.\n",
              "13            will this replace fan model f0510B2944?  I just copied this information from the Lamanc...\n",
              "14  what is the difference between F0510B2944 and ...  Sorry I have no idea; just tried to research f...\n",
              "15  what is the number is it F0512B2506? says Cert...  I can't be sure. this motor covers a wide vari...\n",
              "16     Will this motor replace Broan motor # 99000237  Not sure of model number was used to replace a...\n",
              "17  How is this motor different than the one Amazo...  I don't know? I bought the one I have because ...\n",
              "18  we bought a barbie jeep at a yard sale. It is ...  I am not positive but sounds like 12V means yo...\n",
              "19                                 how long to charge  Adena, It takes a good twelve to sixteen hours..."
            ]
          },
          "metadata": {},
          "execution_count": 6
        }
      ]
    },
    {
      "cell_type": "markdown",
      "source": [
        "# Text preprocessing"
      ],
      "metadata": {
        "id": "2fcLgglf_ExT"
      }
    },
    {
      "cell_type": "markdown",
      "source": [
        "## POS tagging"
      ],
      "metadata": {
        "id": "y0Jl1a4v_m24"
      }
    },
    {
      "cell_type": "code",
      "execution_count": null,
      "metadata": {
        "id": "SbP7XQVB4mVF"
      },
      "outputs": [],
      "source": [
        "# This is a common method which is widely used across the NLP community\n",
        "def wordnet_pos_tag(token: str) -> str:\n",
        "  \"\"\"\n",
        "  Maps POS tags to the first character lemmatize() accepts.\n",
        "  WordNet groups [N]ouns, [V]erbs, [A]djectives, and Adve[R]bs into synsets.\n",
        "  \"\"\"\n",
        "  tag_dict = {\n",
        "      'J': wordnet.ADJ,\n",
        "      'N': wordnet.NOUN,\n",
        "      'V': wordnet.VERB,\n",
        "      'R': wordnet.ADV\n",
        "  }\n",
        "  tag = nltk.pos_tag([token])[0][1][0].upper()\n",
        "  return tag_dict.get(tag, wordnet.NOUN)"
      ]
    },
    {
      "cell_type": "markdown",
      "source": [
        "## Lemma-based tokenization"
      ],
      "metadata": {
        "id": "RCQtKR5h_pzc"
      }
    },
    {
      "cell_type": "code",
      "source": [
        "def tokenize_to_lemma(doc: str) -> list:\n",
        "  tokenizer = TweetTokenizer()\n",
        "  lemmatizer = WordNetLemmatizer()\n",
        "  for token in tokenizer.tokenize(doc):\n",
        "    tag = wordnet_pos_tag(token)\n",
        "    yield lemmatizer.lemmatize(token, pos=tag)"
      ],
      "metadata": {
        "id": "h_w-xaJTVGdH"
      },
      "execution_count": null,
      "outputs": []
    },
    {
      "cell_type": "markdown",
      "source": [
        "## Stopwords removal"
      ],
      "metadata": {
        "id": "6UrkttUT_wDI"
      }
    },
    {
      "cell_type": "code",
      "source": [
        "def is_question_word(word: str) -> bool:\n",
        "  question_words = {'who', 'what', 'when', 'why', 'how', 'which', 'where', 'whom'}\n",
        "  return any(qw in word for qw in question_words)"
      ],
      "metadata": {
        "id": "A5ZV8PRQatEf"
      },
      "execution_count": null,
      "outputs": []
    },
    {
      "cell_type": "code",
      "source": [
        "stop_words = map(lambda w: not is_question_word(w), stopwords.words('english'))"
      ],
      "metadata": {
        "id": "ZGKbifjJZxsR"
      },
      "execution_count": null,
      "outputs": []
    },
    {
      "cell_type": "markdown",
      "source": [
        "# Text vectorization"
      ],
      "metadata": {
        "id": "CqvmdTVK_za_"
      }
    },
    {
      "cell_type": "code",
      "source": [
        "vectorizer = TfidfVectorizer(\n",
        "    tokenizer=tokenize_to_lemma,\n",
        "    stop_words=stop_words,\n",
        "    lowercase=True, \n",
        "    norm='l2'\n",
        ")"
      ],
      "metadata": {
        "id": "8cv_DnZ96AQz"
      },
      "execution_count": null,
      "outputs": []
    },
    {
      "cell_type": "code",
      "source": [
        "X = vectorizer.fit_transform(automotive_df['question'])\n",
        "y = automotive_df['answer']"
      ],
      "metadata": {
        "id": "RbpYOTPD6HW0"
      },
      "execution_count": null,
      "outputs": []
    },
    {
      "cell_type": "markdown",
      "source": [
        "# Similarity-based chatbot\n",
        "***X*** is the **repository matrix** that will be searched every time a **new question is entered**\n",
        "in the **chatbot** for the **most similar question**. To implement this, we need to calculate the **angle** between the **new question vector** and every row of the **X matrix**. Finally, we **search the\n",
        "row** that has the **maximum cosine** (or the **minimum angle**) with the **new question vector**\n",
        "and **return the corresponding answer** to that question as the response. \n",
        "* If the **smallest angle** between the **question vector** and **every row of the matrix** is **greater than a threshold value**,\n",
        "then we consider that **question to be different enough not to warrant a response**.\n",
        " \n",
        "> Note that we **search our repository matrix** ***X*** based on the **user's query**, meaning that the **angle** is measured as ***cosine_similarity(query, X)***"
      ],
      "metadata": {
        "id": "oCW-QVnZ8OP7"
      }
    },
    {
      "cell_type": "code",
      "source": [
        "def chatbot_answer(query: str) -> str:\n",
        "  # Define global dependencies\n",
        "  global X, y, vectorizer\n",
        "  \n",
        "  # Apply TF-IDF transformation on the query\n",
        "  query_vec = vectorizer.transform([query])\n",
        "\n",
        "  # Calculate the cosine between the query vector and each row\n",
        "  similarity_vec = cosine_similarity(query_vec, X)[0]\n",
        "  \n",
        "  # If angle is above the threshold, do not warrant a response\n",
        "  if max(similarity_vec) < 0.5:\n",
        "    return \"Sorry, I didn't quite understand that. Would you might repeating once again?\"\n",
        "  \n",
        "  # Answer corresponding to the maximum cosine (or the minimum angle) with the query vector\n",
        "  return y[np.argmax(similarity_vec)]"
      ],
      "metadata": {
        "id": "Tynk0HD_7r00"
      },
      "execution_count": null,
      "outputs": []
    },
    {
      "cell_type": "code",
      "source": [
        "def QA_support():\n",
        "  try:\n",
        "    user_name = input(\"Please enter your username: \")\n",
        "    print(\"Q&A Support: Hi, welcome to the Amazon's Automotive Q&A Support. How may I help you?\")\n",
        "    while True:\n",
        "      user_query = input(f\"{user_name}: \")\n",
        "      if 'bye' in user_query.lower():\n",
        "        raise KeyboardInterrupt\n",
        "      print(f\"Q&A Support: {chatbot_answer(user_query)}\")\n",
        "  except KeyboardInterrupt:\n",
        "    print(\n",
        "      \"Q&A Support: Thank you for our conversation, \"\n",
        "      \"I'm always there willing to help you.\\n\" +\n",
        "      \"In case of any further questions, feel free to reach me out :)\"\n",
        "    )"
      ],
      "metadata": {
        "id": "8VQ2ILIkAKW-"
      },
      "execution_count": null,
      "outputs": []
    },
    {
      "cell_type": "code",
      "source": [
        "if __name__ == '__main__':\n",
        "  QA_support()"
      ],
      "metadata": {
        "colab": {
          "base_uri": "https://localhost:8080/"
        },
        "id": "lHofPH5DTq_o",
        "outputId": "6846b0d3-2cbe-4d24-a350-9f723b21f9a0"
      },
      "execution_count": null,
      "outputs": [
        {
          "output_type": "stream",
          "name": "stdout",
          "text": [
            "Please enter your username: mikey_72\n",
            "Q&A Support: Hi, welcome to the Amazon's Automotive Q&A Support. How may I help you?\n",
            "mikey_72: How many amps can this handle?\n",
            "Q&A Support: Per Coleman Cable specifications 4 gauge 20 foot long cables current rating is 300 amps.\n",
            "mikey_72: I need a replacement for the  fan model f0510B2944\n",
            "Q&A Support: I just copied this information from the Lamanco site www.lamanco Are replacement parts available for power vents? Replacement parts for Lomanco power vents, Model 2000, 2000TH, or 1800 can be found in our online store. The most recent motor model number is F0510B2944. This motor replaces several older models (A0416B2059, A0510B2389, F0510B2497). We also have distributors who may stock the motor locally. Please contact customer service to see if the motor is available locally (800-643-5596). Help Topics: Specific Product / 1800 ADD-A-VENT, Specific Product / 2000 Power Vent, Product Support / Powered Vents Hope this helps\n",
            "mikey_72: How heavy is the Being 20ft 4gauge?\n",
            "Q&A Support: Not nearly heavy enough. I keep them under my back seat for emergencies only. If you need daily heavy use cables these arent for you.\n",
            "mikey_72: ok, thanks bye\n",
            "Q&A Support: Thank you for our conversation, I'm always there willing to help you.\n",
            "In case of any further questions, feel free to reach me out :)\n"
          ]
        }
      ]
    },
    {
      "cell_type": "markdown",
      "source": [
        "# Summary\n",
        "Needless to say, there is plenty of room for **further improvement** in this **chatbot** to **improve its accuracy**. Some areas that can be further\n",
        "refined are \n",
        "* **preprocessing**, \n",
        "* **cleaning of raw data**, \n",
        "* **tweaking TF-IDF normalization**, \n",
        "and so on. \n",
        "\n",
        "While **cosine similarity-based chatbots** were the **first-generation NLP applications** used\n",
        "in industry to **automate simple Q&A-based tasks**, **new-age chatbots** have come a long way\n",
        "and are able to **handle much more complex** and **bespoke requirements** using **deep learning-based models**."
      ],
      "metadata": {
        "id": "mPVQ72Uj-fB3"
      }
    }
  ]
}